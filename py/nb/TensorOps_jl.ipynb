{
 "cells": [
  {
   "cell_type": "code",
   "execution_count": 2,
   "metadata": {},
   "outputs": [],
   "source": [
    "using LinearAlgebra\n",
    "using SymPy"
   ]
  },
  {
   "cell_type": "code",
   "execution_count": 3,
   "metadata": {},
   "outputs": [
    {
     "data": {
      "text/plain": [
       "ortho_states (generic function with 1 method)"
      ]
     },
     "execution_count": 3,
     "metadata": {},
     "output_type": "execute_result"
    }
   ],
   "source": [
    "# Creates arrays with orthogonal states via simply slicing up a diagonal matrix of size 2^numQubits ⊗ 2^numQubits\n",
    "function ortho_states(numQubits::Int64)\n",
    "    States=2^numQubits\n",
    "    V = [zeros(Int64, 1, States ) for _ in 1:States]\n",
    "    count=1\n",
    "    for i in V\n",
    "        V[count][count]=1\n",
    "        count +=1\n",
    "    end\n",
    "    V\n",
    "end"
   ]
  },
  {
   "cell_type": "code",
   "execution_count": 4,
   "metadata": {},
   "outputs": [
    {
     "data": {
      "text/plain": [
       "indexNameSymbols (generic function with 1 method)"
      ]
     },
     "execution_count": 4,
     "metadata": {},
     "output_type": "execute_result"
    }
   ],
   "source": [
    "#Convert the indexing values to actual symbols for manipulation.\n",
    "# Requires the number of qubits in the data set, the data set, and a prefix to track the name\n",
    "function indexNameSymbols(Dat_qubits::Int64, Dat::Array{Array{Int64,2},1}, Prefix::String)\n",
    "    Sym=repeat([\"\"],2^Dat_qubits)\n",
    "    for i in 1:2^Dat_qubits\n",
    "        for j in 1:2^Dat_qubits\n",
    "           Sym[i]*=string(Dat[j][i])  \n",
    "        end\n",
    "    end\n",
    "    Sym\n",
    "    [symbols(Prefix*string(i)) for i in Sym]\n",
    "end"
   ]
  },
  {
   "cell_type": "code",
   "execution_count": 18,
   "metadata": {},
   "outputs": [],
   "source": [
    "Nouns = [\"John\",\"James\",\"Bill\",\"Bob\"];\n",
    "Verbs = [\"met\",\"saw\",\"likes\",\"\"];"
   ]
  },
  {
   "cell_type": "code",
   "execution_count": 6,
   "metadata": {},
   "outputs": [],
   "source": [
    "Ns_qubits = ceil(Int64,log2(length(Nouns)));\n",
    "Ns = ortho_states(Ns_qubits);\n",
    "No_qubits = ceil(Int64,log2(length(Nouns)));\n",
    "No = ortho_states(No_qubits);\n",
    "V_qubits = ceil(Int64,log2(length(Verbs)));\n",
    "V = ortho_states(V_qubits);"
   ]
  },
  {
   "cell_type": "code",
   "execution_count": 7,
   "metadata": {},
   "outputs": [],
   "source": [
    "#Create the arrays of unqique symbols, each corresponding to the coefficient of a specific state\n",
    "# eg SymS = s_{10}*|0> + s_{01}*|1>, where |0> = (1 0)' and |1> = (0 1)' \n",
    "SymNs = indexNameSymbols(Ns_qubits, Ns, \"Ns\");\n",
    "SymNo = indexNameSymbols(Ns_qubits, No, \"No\");\n",
    "SymV = indexNameSymbols(V_qubits, V, \"V\");"
   ]
  },
  {
   "cell_type": "code",
   "execution_count": 19,
   "metadata": {},
   "outputs": [
    {
     "data": {
      "text/plain": [
       "64-element Array{String,1}:\n",
       " \"JohnmetJohn\"   \n",
       " \"JohnmetJames\"  \n",
       " \"JohnmetBill\"   \n",
       " \"JohnmetBob\"    \n",
       " \"JohnsawJohn\"   \n",
       " \"JohnsawJames\"  \n",
       " \"JohnsawBill\"   \n",
       " \"JohnsawBob\"    \n",
       " \"JohnlikesJohn\" \n",
       " \"JohnlikesJames\"\n",
       " \"JohnlikesBill\" \n",
       " \"JohnlikesBob\"  \n",
       " \"JohnJohn\"      \n",
       " ⋮               \n",
       " \"BobsawJohn\"    \n",
       " \"BobsawJames\"   \n",
       " \"BobsawBill\"    \n",
       " \"BobsawBob\"     \n",
       " \"BoblikesJohn\"  \n",
       " \"BoblikesJames\" \n",
       " \"BoblikesBill\"  \n",
       " \"BoblikesBob\"   \n",
       " \"BobJohn\"       \n",
       " \"BobJames\"      \n",
       " \"BobBill\"       \n",
       " \"BobBob\"        "
      ]
     },
     "execution_count": 19,
     "metadata": {},
     "output_type": "execute_result"
    }
   ],
   "source": [
    "kron(Nouns,kron(Verbs,Nouns))"
   ]
  },
  {
   "cell_type": "code",
   "execution_count": 22,
   "metadata": {},
   "outputs": [
    {
     "data": {
      "text/plain": [
       "24"
      ]
     },
     "execution_count": 22,
     "metadata": {},
     "output_type": "execute_result"
    }
   ],
   "source": [
    "binomial(4,2)*4"
   ]
  },
  {
   "cell_type": "code",
   "execution_count": 26,
   "metadata": {},
   "outputs": [
    {
     "data": {
      "text/plain": [
       "2×2 Array{Int64,2}:\n",
       " 1   0\n",
       " 0  -1"
      ]
     },
     "execution_count": 26,
     "metadata": {},
     "output_type": "execute_result"
    }
   ],
   "source": [
    "A=[1 0; 0 -1]"
   ]
  },
  {
   "cell_type": "code",
   "execution_count": 28,
   "metadata": {},
   "outputs": [
    {
     "data": {
      "text/plain": [
       "2×2 Array{Int64,2}:\n",
       " 1  0\n",
       " 0  1"
      ]
     },
     "execution_count": 28,
     "metadata": {},
     "output_type": "execute_result"
    }
   ],
   "source": [
    "adjoint(A)*A"
   ]
  },
  {
   "cell_type": "code",
   "execution_count": null,
   "metadata": {},
   "outputs": [],
   "source": []
  }
 ],
 "metadata": {
  "kernelspec": {
   "display_name": "Julia 1.1.0",
   "language": "julia",
   "name": "julia-1.1"
  },
  "language_info": {
   "file_extension": ".jl",
   "mimetype": "application/julia",
   "name": "julia",
   "version": "1.1.0"
  }
 },
 "nbformat": 4,
 "nbformat_minor": 2
}
