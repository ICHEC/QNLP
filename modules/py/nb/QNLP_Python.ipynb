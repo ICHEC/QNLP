{
 "cells": [
  {
   "cell_type": "markdown",
   "metadata": {},
   "source": [
    "# QNLP example\n",
    "This notebook runs an example encoding of **\"John rests inside, Mary walks outside\"**. We initially define mappings for each of these tokens to a pre-defined set of basis tokens. These tokens are next represented as binary integers, and encoded using the QNLP runtime.\n",
    "\n",
    "A test pattern is then constructed using **\"adults stand inside\"**, and the encoded patterns are queried and sampled to determine the closest encoded data, as learned from the given sentences.\n",
    "\n",
    "\n",
    "The basis tokens are defined as:\n",
    "\n",
    "$$\n",
    "\\begin{equation*}\n",
    "\\begin{array}{c|c|c}\n",
    "\\mathbf{Dataset} & \\mathbf{Word} & \\mathbf{Bin.~Index} \\\\\n",
    "\\hline\n",
    "{n_s} & \\mathrm{adult} & 00 \\\\\n",
    "{n_s} & \\mathrm{child} & 01 \\\\\n",
    "{n_s} & \\mathrm{smith} & 10 \\\\\n",
    "{n_s} & \\mathrm{surgeon} & 11 \\\\\n",
    "\\\\\n",
    "{v} & \\mathrm{stand} & 00 \\\\\n",
    "{v} & \\mathrm{move} & 01 \\\\\n",
    "{v} & \\mathrm{sit} & 10 \\\\\n",
    "{v} & \\mathrm{sleep} & 11 \\\\\n",
    "\\\\\n",
    "{n_o} & \\mathrm{inside} & 0 \\\\\n",
    "{n_o} & \\mathrm{outside} & 1 \\\\\n",
    "\\end{array}\n",
    "\\end{equation*}\n",
    "$$\n",
    "\n",
    "We define the mapping of *\"John rests inside, Mary walks outside\"* to this basis as:\n",
    "\n",
    "$$\n",
    "\\begin{equation*}\n",
    "\\begin{array}{c|c|c}\n",
    "\\mathbf{Dataset} & \\mathbf{Word} & \\mathbf{State} \\\\\n",
    "\\hline\n",
    "{n_s} & \\mathrm{John} & (\\vert 00 \\rangle + \\vert 10 \\rangle)/\\sqrt{2} \\\\\n",
    "{n_s} & \\mathrm{Mary} & (\\vert 01 \\rangle + \\vert 11 \\rangle)/\\sqrt{2} \\\\\n",
    "{v} & \\mathrm{walk} & (\\vert 00 \\rangle + \\vert 01 \\rangle)/\\sqrt{2} \\\\\n",
    "{v} & \\mathrm{rest} & (\\vert 10 \\rangle + \\vert 11 \\rangle)/\\sqrt{2} \\\\\n",
    "{n_o} & \\mathrm{inside} & \\vert 0 \\rangle  \\\\\n",
    "{n_o} & \\mathrm{outside} & \\vert 1 \\rangle  \\\\\n",
    "\\end{array}\n",
    "\\end{equation*}\n",
    "$$\n",
    "\n",
    "Lastly, our test pattern is mapped onto the basis as **\"adults stand inside\"** $\\rightarrow |00000\\rangle$. The remainder of the notebook will encode the data using the given basis, encode the test pattern, and query the resulting register state using the Hamming distance to determine closeness."
   ]
  },
  {
   "cell_type": "code",
   "execution_count": 1,
   "metadata": {},
   "outputs": [],
   "source": [
    "import os\n",
    "os.environ[\"OMP_NUM_THREADS\"] = \"4\""
   ]
  },
  {
   "cell_type": "code",
   "execution_count": 2,
   "metadata": {},
   "outputs": [],
   "source": [
    "%matplotlib inline\n",
    "from matplotlib import rc\n",
    "rc('text', usetex=True)\n",
    "import matplotlib.pyplot as plt"
   ]
  },
  {
   "cell_type": "markdown",
   "metadata": {},
   "source": [
    "Import the C++ backed simulator package and the preprocessing Python package"
   ]
  },
  {
   "cell_type": "code",
   "execution_count": 3,
   "metadata": {},
   "outputs": [],
   "source": [
    "from PyQNLPSimulator import PyQNLPSimulator as p\n",
    "import QNLP as q\n",
    "import numpy as np\n",
    "from itertools import product\n",
    "from tqdm import tqdm"
   ]
  },
  {
   "cell_type": "markdown",
   "metadata": {},
   "source": [
    "Predefine necessary data for encoding and calculate resources requirements"
   ]
  },
  {
   "cell_type": "code",
   "execution_count": 4,
   "metadata": {},
   "outputs": [],
   "source": [
    "# Define basis tokens encoding and decoding dicts\n",
    "encoding_dict = {\"ns\" : { \"adult\":0b00, \"child\":0b11, \"smith\":0b10, \"surgeon\":0b01 },\n",
    "                 \"v\"  : { \"stand\":0b00, \"move\":0b01, \"sit\":0b11, \"sleep\":0b10 },\n",
    "                 \"no\" : { \"inside\":0b0,\"outside\":0b1 }\n",
    "                }\n",
    "\n",
    "decoding_dict = {\"ns\" : { 0b00:\"adult\", 0b11:\"child\", 0b10:\"smith\", 0b01:\"surgeon\"},\n",
    "                 \"v\"  : { 0b00:\"stand\", 0b01:\"move\", 0b11:\"sit\", 0b10:\"sleep\"},\n",
    "                 \"no\" : { 0b0:\"inside\", 0b1:\"outside\"}\n",
    "                }"
   ]
  },
  {
   "cell_type": "code",
   "execution_count": 5,
   "metadata": {},
   "outputs": [],
   "source": [
    "len_reg_memory = 5\n",
    "len_reg_ancilla = len_reg_memory + 2\n",
    "num_qubits = len_reg_memory + len_reg_ancilla\n",
    "num_bin_pattern = 8\n",
    "\n",
    "test_pattern = 0"
   ]
  },
  {
   "cell_type": "markdown",
   "metadata": {},
   "source": [
    "Create simulator object"
   ]
  },
  {
   "cell_type": "code",
   "execution_count": 6,
   "metadata": {},
   "outputs": [],
   "source": [
    "use_fusion = False\n",
    "sim = p(num_qubits, use_fusion)\n",
    "num_exps = 5000\n",
    "normalise = True"
   ]
  },
  {
   "cell_type": "code",
   "execution_count": 7,
   "metadata": {},
   "outputs": [],
   "source": [
    "# Set up registers to store indices\n",
    "reg_memory = [0]*len_reg_memory;\n",
    "for i in range(len_reg_memory):\n",
    "    reg_memory[i] = i\n",
    "\n",
    "reg_ancilla = [0]*len_reg_ancilla\n",
    "for i in range(len_reg_ancilla):\n",
    "    reg_ancilla[i] = i + len_reg_memory;"
   ]
  },
  {
   "cell_type": "code",
   "execution_count": 8,
   "metadata": {},
   "outputs": [
    {
     "data": {
      "text/plain": [
       "[[{'john': [0, 2]}, {'rest': [3, 2]}, {'inside': [0]}],\n",
       " [{'mary': [3, 1]}, {'walk': [0, 1]}, {'outside': [1]}]]"
      ]
     },
     "execution_count": 8,
     "metadata": {},
     "output_type": "execute_result"
    }
   ],
   "source": [
    "# data for encoding using the given basis\n",
    "\"John rests outside, Mary walks inside\"\n",
    "sentences = [\n",
    "    [{\"john\" :   [encoding_dict[\"ns\"][\"adult\"], encoding_dict[\"ns\"][\"smith\"]]},\n",
    "    {\"rest\" :    [encoding_dict[\"v\"][\"sit\"], encoding_dict[\"v\"][\"sleep\"]]},\n",
    "    {\"inside\" :  [encoding_dict[\"no\"][\"inside\"]] }],\n",
    "\n",
    "    [{\"mary\" :   [encoding_dict[\"ns\"][\"child\"], encoding_dict[\"ns\"][\"surgeon\"]]},\n",
    "    {\"walk\" :    [encoding_dict[\"v\"][\"stand\"],  encoding_dict[\"v\"][\"move\"]]},\n",
    "    {\"outside\" :[encoding_dict[\"no\"][\"outside\"]] }],\n",
    "]\n",
    "sentences"
   ]
  },
  {
   "cell_type": "code",
   "execution_count": 9,
   "metadata": {},
   "outputs": [
    {
     "data": {
      "text/plain": [
       "[6, 22, 4, 20, 25, 9, 27, 11]"
      ]
     },
     "execution_count": 9,
     "metadata": {},
     "output_type": "execute_result"
    }
   ],
   "source": [
    "# Create shift patterns for the encoding step\n",
    "bit_shifts = [i[1] for i in q.utils.get_type_offsets(encoding_dict)]\n",
    "bit_shifts.reverse()\n",
    "\n",
    "bit_shifts.insert(0,0)\n",
    "bit_shifts = np.cumsum(bit_shifts)\n",
    "\n",
    "# Parse the sentences and generate the required bit-patterns\n",
    "superpos_patterns = [list(sentences[0][i].values())[0] for i in range(3)]\n",
    "\n",
    "#Create list for the patterns to be encoded\n",
    "vec_to_encode = []\n",
    "\n",
    "# Generate bit-patterns from sentences and store in vec_to_encode\n",
    "for idx in range(len(sentences)):\n",
    "    superpos_patterns = [list(sentences[idx][i].values())[0] for i in range(3)]\n",
    "    # Generate all combinations of the bit-patterns for superpos states\n",
    "    for i in list(product(superpos_patterns[2], superpos_patterns[1], superpos_patterns[0])):\n",
    "        num = 0\n",
    "        for val in zip(i,bit_shifts):\n",
    "            num += (val[0] << val[1])\n",
    "        vec_to_encode.extend([num])\n",
    "        \n",
    "vec_to_encode"
   ]
  },
  {
   "cell_type": "code",
   "execution_count": 10,
   "metadata": {},
   "outputs": [],
   "source": [
    "# Init result counter\n",
    "count_even = {}\n",
    "for i in vec_to_encode:\n",
    "    count_even.update({i : 0})"
   ]
  },
  {
   "cell_type": "code",
   "execution_count": 11,
   "metadata": {},
   "outputs": [
    {
     "name": "stderr",
     "output_type": "stream",
     "text": [
      "100%|██████████| 5000/5000 [00:33<00:00, 149.53it/s]"
     ]
    },
    {
     "name": "stdout",
     "output_type": "stream",
     "text": [
      "CPU times: user 2min 12s, sys: 479 ms, total: 2min 12s\n",
      "Wall time: 33.4 s\n"
     ]
    },
    {
     "name": "stderr",
     "output_type": "stream",
     "text": [
      "\n"
     ]
    }
   ],
   "source": [
    "%%time\n",
    "# Test of equally encoded bit patterns\n",
    "for exp in tqdm(range(num_exps)):\n",
    "\n",
    "    sim.initRegister()\n",
    "\n",
    "    # Encode\n",
    "    sim.encodeBinToSuperpos_unique(reg_memory, reg_ancilla, vec_to_encode, len_reg_memory)\n",
    "    \n",
    "    val = sim.applyMeasurementToRegister(reg_memory, normalise)\n",
    "    count_even[val] += 1;\n"
   ]
  },
  {
   "cell_type": "code",
   "execution_count": 12,
   "metadata": {},
   "outputs": [],
   "source": [
    "# Test value to compare\n",
    "test_pattern = 0; # 00000 ->  adult, stand, inside\n",
    "#test_pattern = 7; # 00111 ->  adult, sleep, outside\n",
    "\n",
    "# Init result counter\n",
    "count = {}\n",
    "for i in vec_to_encode:\n",
    "    count.update({i : 0})"
   ]
  },
  {
   "cell_type": "code",
   "execution_count": 14,
   "metadata": {},
   "outputs": [],
   "source": [
    "?sim.applyHammingDistanceRotY"
   ]
  },
  {
   "cell_type": "code",
   "execution_count": 15,
   "metadata": {},
   "outputs": [
    {
     "data": {
      "text/plain": [
       "8"
      ]
     },
     "execution_count": 15,
     "metadata": {},
     "output_type": "execute_result"
    }
   ],
   "source": [
    "num_bin_pattern"
   ]
  },
  {
   "cell_type": "code",
   "execution_count": 16,
   "metadata": {},
   "outputs": [
    {
     "name": "stderr",
     "output_type": "stream",
     "text": [
      "100%|██████████| 5000/5000 [00:48<00:00, 103.33it/s]\n"
     ]
    }
   ],
   "source": [
    "# Repeated shots of experiment\n",
    "for exp in tqdm(range(num_exps)):\n",
    "\n",
    "    sim.initRegister()\n",
    "\n",
    "    # Encode\n",
    "    sim.encodeBinToSuperpos_unique(reg_memory, reg_ancilla, vec_to_encode, len_reg_memory)\n",
    "\n",
    "    # Compute Hamming distance between test pattern and encoded patterns\n",
    "    sim.applyHammingDistanceRotY(test_pattern, reg_memory, reg_ancilla, len_reg_memory)\n",
    "\n",
    "    # Measure\n",
    "    sim.collapseToBasisZ(reg_ancilla[len_reg_ancilla-2], 1)\n",
    "    \n",
    "    val = sim.applyMeasurementToRegister(reg_memory, normalise)\n",
    "    count[val] += 1;\n"
   ]
  },
  {
   "cell_type": "code",
   "execution_count": 17,
   "metadata": {},
   "outputs": [],
   "source": [
    "xlab_str = [\",\".join(q.utils.bin_to_sentence(i, encoding_dict, decoding_dict))  for i in list(count.keys())]\n",
    "xlab_bin = [\"{0:0{num_bits}b}\".format(i, num_bits=len_reg_memory) for i in list(count.keys())]\n",
    "[i[0]+\"\\n\"+i[1] for i in zip(xlab_str,xlab_bin)]\n",
    "\n",
    "# Sort histograms by P\n",
    "hist_list_even = list(zip(\n",
    "    [i[0]+r\" $\\vert$\"+i[1]+r\"$\\rangle$\" for i in zip(xlab_str,xlab_bin)],\n",
    "    [i/np.sum(list(count_even.values())) for i in list(count_even.values())]\n",
    "))\n",
    "hist_list = list(zip(\n",
    "    [i[0]+r\" $\\vert$\"+i[1]+r\"$\\rangle$\" for i in zip(xlab_str,xlab_bin)],\n",
    "    [i/np.sum(list(count.values())) for i in list(count.values())]\n",
    "))\n",
    "#hist_list = sorted(hist_list, key=lambda pr: pr[1], reverse=True)"
   ]
  },
  {
   "cell_type": "code",
   "execution_count": 18,
   "metadata": {
    "scrolled": false
   },
   "outputs": [
    {
     "data": {
      "image/png": "[encoded data removed]",
      "text/plain": [
       "<Figure size 1440x864 with 1 Axes>"
      ]
     },
     "metadata": {
      "needs_background": "light"
     },
     "output_type": "display_data"
    }
   ],
   "source": [
    "labels = [x[0] for x in hist_list_even]\n",
    "even_vals = [y[1] for y in hist_list_even]\n",
    "post_vals = [y[1] for y in hist_list]\n",
    "\n",
    "x = np.arange(len(labels))  # the label locations\n",
    "width = 0.35  # the width of the bars\n",
    "\n",
    "fig, ax = plt.subplots()\n",
    "\n",
    "rects1 = ax.bar(x - width/2, even_vals, width, label='Even superposition measurement')\n",
    "rects2 = ax.bar(x + width/2, post_vals, width, label='Post-selection measurement')\n",
    "\n",
    "# Add some text for labels, title and custom x-axis tick labels, etc.\n",
    "ax.set_ylabel(r\"$P(\\textrm{{{}}})$\".format(\"adult, sleep, outside\"),fontsize=24)\n",
    "ax.set_xticks(x)\n",
    "ax.tick_params(axis='both', which='major', labelsize=16)\n",
    "ax.set_xticklabels(labels, rotation=-30, ha=\"left\",fontsize=16)\n",
    "ax.legend(fontsize=16)\n",
    "\n",
    "plt.axhline(y=1.0/len(count), color='crimson', linestyle=\"--\")\n",
    "plt.text(len(count)-0.1, 1.0/(len(count)), '$1/\\sqrt{n}$', horizontalalignment='left', verticalalignment='center', fontsize=16)\n",
    "plt.tight_layout()\n",
    "fig.set_size_inches(20, 12, forward=True)"
   ]
  },
  {
   "cell_type": "code",
   "execution_count": null,
   "metadata": {},
   "outputs": [],
   "source": [
    "#plt.savefig(\"qnlp_vector_measurement.pdf\")"
   ]
  },
  {
   "cell_type": "markdown",
   "metadata": {},
   "source": [
    "As we can see, the closest discovered pattern using the given basis is \"adult, sit, inside\". "
   ]
  }
 ],
 "metadata": {
  "kernelspec": {
   "display_name": "Python 3",
   "language": "python",
   "name": "python3"
  },
  "language_info": {
   "codemirror_mode": {
    "name": "ipython",
    "version": 3
   },
   "file_extension": ".py",
   "mimetype": "text/x-python",
   "name": "python",
   "nbconvert_exporter": "python",
   "pygments_lexer": "ipython3",
   "version": "3.7.4"
  }
 },
 "nbformat": 4,
 "nbformat_minor": 2
}
