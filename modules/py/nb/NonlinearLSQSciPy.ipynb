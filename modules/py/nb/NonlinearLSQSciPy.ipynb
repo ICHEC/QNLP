{
 "cells": [
  {
   "cell_type": "code",
   "execution_count": 1,
   "metadata": {},
   "outputs": [],
   "source": [
    "import numpy as np\n",
    "\n",
    "%matplotlib inline\n",
    "import matplotlib.pyplot as plt\n",
    "\n",
    "from matplotlib import rcParams\n",
    "rcParams['figure.figsize'] = (10, 6)\n",
    "rcParams['legend.fontsize'] = 16\n",
    "rcParams['axes.labelsize'] = 16"
   ]
  },
  {
   "cell_type": "code",
   "execution_count": 3,
   "metadata": {},
   "outputs": [],
   "source": [
    "from scipy.optimize import least_squares"
   ]
  },
  {
   "cell_type": "code",
   "execution_count": 236,
   "metadata": {},
   "outputs": [
    {
     "data": {
      "text/plain": [
       " active_mask: array([0., 0., 0., 0.])\n",
       "        cost: 3.4421667295471555e-07\n",
       "         fun: array([-0.00014165,  0.00039007,  0.00024522, -0.00067534])\n",
       "        grad: array([-5.78608146e-09, -3.34055173e-09, -7.55312594e-09, -2.74406105e-09])\n",
       "         jac: array([[0.8570855 , 0.        , 0.94989832, 0.        ],\n",
       "       [0.31122085, 0.        , 0.        , 0.94989831],\n",
       "       [0.        , 0.8570855 , 0.54865615, 0.        ],\n",
       "       [0.        , 0.31122085, 0.        , 0.54865615]])\n",
       "     message: '`gtol` termination condition is satisfied.'\n",
       "        nfev: 27\n",
       "        njev: 14\n",
       "  optimality: 7.553125940695142e-09\n",
       "      status: 1\n",
       "     success: True\n",
       "           x: array([0.94989832, 0.54865614, 0.85708549, 0.31122085])"
      ]
     },
     "execution_count": 236,
     "metadata": {},
     "output_type": "execute_result"
    }
   ],
   "source": [
    "def func2(x):\n",
    "    c = [3.42, 1.24, 1.974, 0.72]\n",
    "    c = [i/4.2 for i in c]\n",
    "    out = [x[0]*x[2] - c[0]]\n",
    "    out.append(x[0]*x[3] - c[1])\n",
    "    out.append(x[1]*x[2] - c[2])\n",
    "    out.append(x[1]*x[3] - c[3])\n",
    "    return out\n",
    "scipy.optimize.least_squares(func2,[1,1,1,1])"
   ]
  },
  {
   "cell_type": "code",
   "execution_count": 146,
   "metadata": {},
   "outputs": [
    {
     "data": {
      "text/plain": [
       " active_mask: array([0., 0., 0., 0., 0., 0., 0., 0.])\n",
       "        cost: 0.016848879005798\n",
       "         fun: array([ 0.01038552,  0.04060815, -0.0526089 , -0.00144661, -0.03721813,\n",
       "        0.02122163,  0.10758316, -0.12554443])\n",
       "        grad: array([-2.16894252e-06, -2.04016818e-06, -2.51298089e-06, -1.26702201e-06,\n",
       "       -2.43198734e-06, -9.93430768e-07,  0.00000000e+00,  0.00000000e+00])\n",
       "         jac: array([[1.08359371, 0.        , 0.83542447, 0.        , 0.75125612,\n",
       "        0.        , 0.        , 0.        ],\n",
       "       [0.44129208, 0.        , 0.34022549, 0.        , 0.        ,\n",
       "        0.75125612, 0.        , 0.        ],\n",
       "       [0.54843961, 0.        , 0.        , 0.83542446, 0.38023349,\n",
       "        0.        , 0.        , 0.        ],\n",
       "       [0.22335129, 0.        , 0.        , 0.34022549, 0.        ,\n",
       "        0.38023349, 0.        , 0.        ],\n",
       "       [0.        , 1.08359372, 0.78720009, 0.        , 0.70789031,\n",
       "        0.        , 0.        , 0.        ],\n",
       "       [0.        , 0.44129208, 0.32058617, 0.        , 0.        ,\n",
       "        0.70789031, 0.        , 0.        ],\n",
       "       [0.        , 0.54843962, 0.        , 0.78720009, 0.35828474,\n",
       "        0.        , 0.        , 0.        ],\n",
       "       [0.        , 0.2233513 , 0.        , 0.32058618, 0.        ,\n",
       "        0.35828474, 0.        , 0.        ]])\n",
       "     message: '`ftol` termination condition is satisfied.'\n",
       "        nfev: 19\n",
       "        njev: 10\n",
       "  optimality: 2.512980892151878e-06\n",
       "      status: 2\n",
       "     success: True\n",
       "           x: array([0.76105206, 0.71712079, 0.98712842, 0.49961561, 1.09772314,\n",
       "       0.44704627, 0.94      , 0.342     ])"
      ]
     },
     "execution_count": 146,
     "metadata": {},
     "output_type": "execute_result"
    }
   ],
   "source": [
    "def func3(x):\n",
    "    c = [3.42, 1.24, 1.974, 0.72, 3.42, 1.24, 1.2, 1.2]\n",
    "    c = [i/4.2 for i in c]\n",
    "    out = [x[0]*x[2]*x[4] - c[0]]\n",
    "    out.append(x[0]*x[2]*x[5] - c[1])\n",
    "    out.append(x[0]*x[3]*x[4] - c[2])\n",
    "    out.append(x[0]*x[3]*x[5] - c[3])\n",
    "    out.append(x[1]*x[2]*x[4] - c[4])\n",
    "    out.append(x[1]*x[2]*x[5] - c[5])\n",
    "    out.append(x[1]*x[3]*x[4] - c[6])\n",
    "    out.append(x[1]*x[3]*x[5] - c[7])\n",
    "\n",
    "    return out\n",
    "scipy.optimize.least_squares(func3,[0.866,0.5,0.94,0.342,0.866,0.5,0.94,0.342])"
   ]
  },
  {
   "cell_type": "code",
   "execution_count": 213,
   "metadata": {},
   "outputs": [
    {
     "data": {
      "text/plain": [
       " active_mask: array([0., 0., 0., 0.])\n",
       "        cost: 3.442166434108884e-07\n",
       "         fun: array([-0.00014165,  0.00039007,  0.00024522, -0.00067534])\n",
       "        grad: array([-6.57843696e-09, -3.79982753e-09, -6.85845999e-09, -2.49201849e-09])\n",
       "         jac: array([[0.95924842, 0.        , 0.84873117, 0.        ],\n",
       "       [0.34831774, 0.        , 0.        , 0.84873109],\n",
       "       [0.        , 0.9592484 , 0.49022253, 0.        ],\n",
       "       [0.        , 0.34831766, 0.        , 0.49022239]])\n",
       "     message: '`ftol` termination condition is satisfied.'\n",
       "        nfev: 27\n",
       "        njev: 14\n",
       "  optimality: 6.858459994184664e-09\n",
       "      status: 2\n",
       "     success: True\n",
       "           x: array([0.84873118, 0.49022255, 0.95924844, 0.34831778])"
      ]
     },
     "execution_count": 213,
     "metadata": {},
     "output_type": "execute_result"
    }
   ],
   "source": [
    "scipy.optimize.least_squares(func2, np.array([1,1,1,1]), gtol=1e-12, loss='soft_l1')"
   ]
  },
  {
   "cell_type": "code",
   "execution_count": 34,
   "metadata": {},
   "outputs": [
    {
     "data": {
      "text/plain": [
       "3.419404215118742"
      ]
     },
     "execution_count": 34,
     "metadata": {},
     "output_type": "execute_result"
    }
   ],
   "source": [
    "4.2*0.97590952 * 0.83424113"
   ]
  },
  {
   "cell_type": "code",
   "execution_count": 92,
   "metadata": {},
   "outputs": [
    {
     "name": "stderr",
     "output_type": "stream",
     "text": [
      "/Users/mlxd/workspace/quantum/duqt/install/duqt_conda/envs/duqt/lib/python3.6/site-packages/marshmallow/schema.py:364: ChangedInMarshmallow3Warning: strict=False is not recommended. In marshmallow 3.0, schemas will always be strict. See https://marshmallow.readthedocs.io/en/latest/upgrading.html#schemas-are-always-strict\n",
      "  ChangedInMarshmallow3Warning\n"
     ]
    }
   ],
   "source": [
    "import numpy as np\n",
    "from qiskit import QuantumCircuit, ClassicalRegister, QuantumRegister\n",
    "from qiskit import execute"
   ]
  },
  {
   "cell_type": "code",
   "execution_count": 93,
   "metadata": {},
   "outputs": [],
   "source": [
    "# Create a Quantum Register with 3 qubits.\n",
    "q = QuantumRegister(3, 'q')\n",
    "\n",
    "# Create a Quantum Circuit acting on the q register\n",
    "circ = QuantumCircuit(q)"
   ]
  },
  {
   "cell_type": "code",
   "execution_count": 95,
   "metadata": {},
   "outputs": [
    {
     "data": {
      "text/plain": [
       "<qiskit.extensions.standard.cx.CnotGate at 0x1295de8d0>"
      ]
     },
     "execution_count": 95,
     "metadata": {},
     "output_type": "execute_result"
    }
   ],
   "source": [
    "\n",
    "# Add a H gate on qubit 0, putting this qubit in superposition.\n",
    "circ.h(q[0])\n",
    "# Add a CX (CNOT) gate on control qubit 0 and target qubit 1, putting\n",
    "# the qubits in a Bell state.\n",
    "circ.cx(q[0], q[1])\n",
    "# Add a CX (CNOT) gate on control qubit 0 and target qubit 2, putting\n",
    "# the qubits in a GHZ state.\n",
    "circ.cx(q[0], q[2])"
   ]
  },
  {
   "cell_type": "code",
   "execution_count": 96,
   "metadata": {},
   "outputs": [
    {
     "data": {
      "text/html": [
       "<pre style=\"word-wrap: normal;white-space: pre;line-height: 15px;\">        ┌───┐          \n",
       "q_0: |0>┤ H ├──■────■──\n",
       "        └───┘┌─┴─┐  │  \n",
       "q_1: |0>─────┤ X ├──┼──\n",
       "             └───┘┌─┴─┐\n",
       "q_2: |0>──────────┤ X ├\n",
       "                  └───┘</pre>"
      ],
      "text/plain": [
       "<qiskit.tools.visualization._text.TextDrawing at 0x1295de978>"
      ]
     },
     "execution_count": 96,
     "metadata": {},
     "output_type": "execute_result"
    }
   ],
   "source": [
    "circ.draw()"
   ]
  },
  {
   "cell_type": "code",
   "execution_count": 99,
   "metadata": {},
   "outputs": [
    {
     "data": {
      "text/plain": [
       "1.000564"
      ]
     },
     "execution_count": 99,
     "metadata": {},
     "output_type": "execute_result"
    }
   ],
   "source": [
    "0.94**2 + 0.342**2"
   ]
  },
  {
   "cell_type": "code",
   "execution_count": 105,
   "metadata": {},
   "outputs": [],
   "source": [
    "n_a = np.linalg.norm(a)"
   ]
  },
  {
   "cell_type": "code",
   "execution_count": 106,
   "metadata": {},
   "outputs": [],
   "source": [
    "an = np.array([i/n_a for i in a])"
   ]
  },
  {
   "cell_type": "code",
   "execution_count": 112,
   "metadata": {},
   "outputs": [
    {
     "data": {
      "text/plain": [
       "array([1., 1., 1., 1., 1., 1., 1., 1.])"
      ]
     },
     "execution_count": 112,
     "metadata": {},
     "output_type": "execute_result"
    }
   ],
   "source": [
    "np.ones(len(an))"
   ]
  },
  {
   "cell_type": "code",
   "execution_count": 143,
   "metadata": {},
   "outputs": [],
   "source": [
    "def qubits3(Vals):\n",
    "    qbit_coeff = (Vals[0:-1])\n",
    "    c = Vals[-1]\n",
    "    out=[1]\n",
    "    for ii in qbit_coeff:\n",
    "        out = np.kron(out,ii)\n",
    "    out = np.subtract(out,c)\n",
    "\n",
    "    return out"
   ]
  },
  {
   "cell_type": "code",
   "execution_count": 136,
   "metadata": {},
   "outputs": [
    {
     "data": {
      "text/plain": [
       "array([-2, -3, -4, -1, -8, -5,  0, -6])"
      ]
     },
     "execution_count": 136,
     "metadata": {},
     "output_type": "execute_result"
    }
   ],
   "source": [
    "qubits3([[1,1],[1,1],[1,1],a])\n"
   ]
  },
  {
   "cell_type": "code",
   "execution_count": 141,
   "metadata": {},
   "outputs": [
    {
     "data": {
      "text/plain": [
       "array([array([1, 1]), array([1, 1]), array([1, 1]),\n",
       "       array([3, 4, 5, 2, 9, 6, 1, 7])], dtype=object)"
      ]
     },
     "execution_count": 141,
     "metadata": {},
     "output_type": "execute_result"
    }
   ],
   "source": []
  },
  {
   "cell_type": "code",
   "execution_count": 233,
   "metadata": {},
   "outputs": [],
   "source": [
    "import numpy as np\n",
    "import scipy.optimize\n",
    "\n",
    "num_qubits = 5\n",
    "\n",
    "def func(x):\n",
    "    qubits = []\n",
    "    for ii in range(0,len(x),2):\n",
    "        qubits.append(np.array([x[ii],x[ii+1]]))\n",
    "    coeffs = [1]\n",
    "    for ii in range(0,len(x)//2):\n",
    "        coeffs = np.kron(coeffs, qubits[ii])\n",
    "    return np.array(coeffs)\n",
    "\n",
    "def nl_eqs(x, rhs):\n",
    "    return func(x)-rhs\n",
    "\n",
    "data_vals = np.ones(2**num_qubits)\n",
    "qubit_init_coeff = np.ones(2*num_qubits)\n",
    "\n",
    "x = scipy.optimize.leastsq(nl_eqs, qubit_init_coeff, args=data_vals)[0]"
   ]
  },
  {
   "cell_type": "code",
   "execution_count": 234,
   "metadata": {},
   "outputs": [
    {
     "data": {
      "text/plain": [
       "array([1., 1., 1., 1., 1., 1., 1., 1., 1., 1.])"
      ]
     },
     "execution_count": 234,
     "metadata": {},
     "output_type": "execute_result"
    }
   ],
   "source": [
    "x"
   ]
  },
  {
   "cell_type": "code",
   "execution_count": null,
   "metadata": {},
   "outputs": [],
   "source": []
  }
 ],
 "metadata": {
  "kernelspec": {
   "display_name": "Python 3",
   "language": "python",
   "name": "python3"
  },
  "language_info": {
   "codemirror_mode": {
    "name": "ipython",
    "version": 3
   },
   "file_extension": ".py",
   "mimetype": "text/x-python",
   "name": "python",
   "nbconvert_exporter": "python",
   "pygments_lexer": "ipython3",
   "version": "3.6.8"
  }
 },
 "nbformat": 4,
 "nbformat_minor": 2
}
