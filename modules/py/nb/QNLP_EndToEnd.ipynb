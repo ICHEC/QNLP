{
 "cells": [
  {
   "cell_type": "code",
   "execution_count": 1,
   "metadata": {},
   "outputs": [],
   "source": [
    "%matplotlib notebook\n",
    "from matplotlib import rc\n",
    "rc('text', usetex=True)\n",
    "import matplotlib.pyplot as plt"
   ]
  },
  {
   "cell_type": "code",
   "execution_count": 2,
   "metadata": {},
   "outputs": [],
   "source": [
    "from PyQNLPSimulator import PyQNLPSimulator as p\n",
    "import QNLP as q\n",
    "import numpy as np\n",
    "\n",
    "from itertools import product\n",
    "import tempfile"
   ]
  },
  {
   "cell_type": "code",
   "execution_count": 16,
   "metadata": {},
   "outputs": [],
   "source": [
    "vsm = q.VectorSpaceModel.VectorSpaceModel(\n",
    "    corpus_path=\"/Users/mlxd/Desktop/qs_dev/intel-qnlp/corpus/84-0.txt\", \n",
    "    mode='l', \n",
    "    stop_words=False\n",
    ")"
   ]
  },
  {
   "cell_type": "code",
   "execution_count": 17,
   "metadata": {},
   "outputs": [],
   "source": [
    "num_basis_elems = 32\n",
    "basis     = vsm.define_basis({'verbs' : num_basis_elems, 'nouns' : num_basis_elems})"
   ]
  },
  {
   "cell_type": "code",
   "execution_count": 25,
   "metadata": {},
   "outputs": [
    {
     "data": {
      "text/plain": [
       "{'verbs': ['seemed',\n",
       "  'came',\n",
       "  'heard',\n",
       "  'feeling',\n",
       "  'feel',\n",
       "  'know',\n",
       "  'see',\n",
       "  'appeared',\n",
       "  'became',\n",
       "  'passed',\n",
       "  'made',\n",
       "  'felt',\n",
       "  'thought',\n",
       "  'found',\n",
       "  'saw',\n",
       "  'said'],\n",
       " 'nouns': ['hand',\n",
       "  'word',\n",
       "  'creature',\n",
       "  'mind',\n",
       "  'towards',\n",
       "  'heart',\n",
       "  'death',\n",
       "  'Elizabeth',\n",
       "  'night',\n",
       "  'father',\n",
       "  'friend',\n",
       "  'time',\n",
       "  'life',\n",
       "  'eye',\n",
       "  'day',\n",
       "  'man']}"
      ]
     },
     "execution_count": 25,
     "metadata": {},
     "output_type": "execute_result"
    }
   ],
   "source": [
    "vsm.sort_basis_tokens_by_dist(\"verbs\")\n",
    "vsm.sort_basis_tokens_by_dist(\"nouns\")"
   ]
  },
  {
   "cell_type": "code",
   "execution_count": 26,
   "metadata": {},
   "outputs": [
    {
     "data": {
      "text/plain": [
       "{'nouns': {'hand': 0,\n",
       "  'word': 1,\n",
       "  'creature': 3,\n",
       "  'mind': 2,\n",
       "  'towards': 6,\n",
       "  'heart': 7,\n",
       "  'death': 5,\n",
       "  'Elizabeth': 4,\n",
       "  'night': 12,\n",
       "  'father': 13,\n",
       "  'friend': 15,\n",
       "  'time': 14,\n",
       "  'life': 10,\n",
       "  'eye': 11,\n",
       "  'day': 9,\n",
       "  'man': 8},\n",
       " 'verbs': {'seemed': 0,\n",
       "  'came': 1,\n",
       "  'heard': 3,\n",
       "  'feeling': 2,\n",
       "  'feel': 6,\n",
       "  'know': 7,\n",
       "  'see': 5,\n",
       "  'appeared': 4,\n",
       "  'became': 12,\n",
       "  'passed': 13,\n",
       "  'made': 15,\n",
       "  'felt': 14,\n",
       "  'thought': 10,\n",
       "  'found': 11,\n",
       "  'saw': 9,\n",
       "  'said': 8}}"
      ]
     },
     "execution_count": 26,
     "metadata": {},
     "output_type": "execute_result"
    }
   ],
   "source": [
    "vsm.assign_indexing(\"nouns\");\n",
    "vsm.assign_indexing(\"verbs\")"
   ]
  },
  {
   "cell_type": "code",
   "execution_count": 27,
   "metadata": {},
   "outputs": [],
   "source": [
    "# Define basis tokens encoding and decoding dicts\n",
    "encoding_dict = {\"ns\" : vsm.encoded_tokens[\"nouns\"],\n",
    "                 \"v\"  : vsm.encoded_tokens[\"verbs\"],\n",
    "                 \"no\" : vsm.encoded_tokens[\"nouns\"]\n",
    "                }\n",
    "\n",
    "decoding_dict = {\"ns\" : { v:k for k,v in encoding_dict[\"ns\"].items() },\n",
    "                 \"v\"  : { v:k for k,v in encoding_dict[\"v\"].items() },\n",
    "                 \"no\" : { v:k for k,v in encoding_dict[\"no\"].items() }\n",
    "                }"
   ]
  },
  {
   "cell_type": "code",
   "execution_count": 32,
   "metadata": {},
   "outputs": [
    {
     "name": "stdout",
     "output_type": "stream",
     "text": [
      "################################################\n",
      "Requires 14 qubits to encode data using 32 \n",
      "basis elements in each space, allowing a \n",
      "maximum of 16384 unique patterns.\n",
      "################################################\n",
      "\n"
     ]
    }
   ],
   "source": [
    "# Register must be large enough to support 2*|nouns| + |verbs|\n",
    "len_reg_memory = len(verb_dist) + 2*len(noun_dist)\n",
    "len_reg_ancilla = len_reg_memory + 2\n",
    "num_qubits = len_reg_memory + len_reg_ancilla\n",
    "print(\"\"\"{}\n",
    "Requires {} qubits to encode data using {} \n",
    "basis elements in each space, allowing a \n",
    "maximum of {} unique patterns.\n",
    "{}\n",
    "\"\"\".format(\"#\"*48, num_qubits, num_basis_elems, 2**num_qubits, \"#\"*48)\n",
    ")"
   ]
  },
  {
   "cell_type": "code",
   "execution_count": 34,
   "metadata": {},
   "outputs": [],
   "source": [
    "\"\"\"\n",
    "Require analysis of corpus to determine number of patterns to encode. The current \n",
    "encoding method assumes unique patterns, though this can be extended to multiple \n",
    "occurrences of the same patterns later. Additionally, we can store 2^num_qubits \n",
    "unique patterns. As such, we will restrict the patterns to encode by limiting the\n",
    "space over which we analyse the corpus-to-basis mapping.\n",
    "\"\"\"\n",
    "num_bin_pattern = 8"
   ]
  },
  {
   "cell_type": "code",
   "execution_count": 35,
   "metadata": {},
   "outputs": [
    {
     "data": {
      "text/plain": [
       "[('cats', 'NNS'),\n",
       " ('eat', 'VBP'),\n",
       " ('tuna', 'NN'),\n",
       " ('.', '.'),\n",
       " ('dogs', 'NNS'),\n",
       " ('eat', 'VBD'),\n",
       " ('everything', 'NN'),\n",
       " ('.', '.'),\n",
       " ('cats', 'NNS'),\n",
       " ('kill', 'VBP'),\n",
       " ('birds', 'NNS'),\n",
       " ('.', '.'),\n",
       " ('people', 'NNS'),\n",
       " ('feed', 'VBP'),\n",
       " ('dogs', 'NNS'),\n",
       " ('.', '.'),\n",
       " ('bakers', 'NNS'),\n",
       " ('use', 'VBP'),\n",
       " ('ingredients', 'NNS'),\n",
       " ('.', '.')]"
      ]
     },
     "execution_count": 35,
     "metadata": {},
     "output_type": "execute_result"
    }
   ],
   "source": [
    "text = \"\"\"\n",
    "cats eat tuna.\n",
    "dogs eat everything.\n",
    "cats kill birds.\n",
    "people feed dogs.\n",
    "bakers use ingredients.\n",
    "\"\"\"\n",
    "import nltk\n",
    "token_words = nltk.word_tokenize(text)\n",
    "nltk.pos_tag(token_words)"
   ]
  },
  {
   "cell_type": "code",
   "execution_count": 36,
   "metadata": {},
   "outputs": [],
   "source": [
    "fp = tempfile.NamedTemporaryFile(mode='w')\n",
    "fp.write(text);\n",
    "fp.flush()"
   ]
  },
  {
   "cell_type": "code",
   "execution_count": 37,
   "metadata": {},
   "outputs": [],
   "source": [
    "vsm2 = q.VectorSpaceModel.VectorSpaceModel(\n",
    "    corpus_path=fp.name, \n",
    "    mode=0, \n",
    "    stop_words=False\n",
    ")\n",
    "fp.close()"
   ]
  },
  {
   "cell_type": "code",
   "execution_count": 38,
   "metadata": {},
   "outputs": [],
   "source": [
    "num_basis_elems2 = 2\n",
    "basis2     = vsm2.define_basis({'verbs' : num_basis_elems, 'nouns' : num_basis_elems})\n",
    "\n",
    "verb_dist2 = vsm2.sort_basis_tokens_by_dist(\"verbs\")\n",
    "noun_dist2 = vsm2.sort_basis_tokens_by_dist(\"nouns\")"
   ]
  },
  {
   "cell_type": "code",
   "execution_count": 41,
   "metadata": {},
   "outputs": [
    {
     "data": {
      "text/plain": [
       "{'nouns': {'ingredients': 0,\n",
       "  'people': 1,\n",
       "  'bakers': 3,\n",
       "  'birds': 2,\n",
       "  'everything': 6,\n",
       "  'tuna': 7,\n",
       "  'dogs': 5,\n",
       "  'cats': 4},\n",
       " 'verbs': {'use': 0, 'feed': 1, 'kill': 3, 'eat': 2}}"
      ]
     },
     "execution_count": 41,
     "metadata": {},
     "output_type": "execute_result"
    }
   ],
   "source": [
    "vsm2.assign_indexing(\"nouns\");\n",
    "vsm2.assign_indexing(\"verbs\")"
   ]
  },
  {
   "cell_type": "code",
   "execution_count": null,
   "metadata": {},
   "outputs": [],
   "source": [
    "fp.n"
   ]
  }
 ],
 "metadata": {
  "kernelspec": {
   "display_name": "Python 3",
   "language": "python",
   "name": "python3"
  },
  "language_info": {
   "codemirror_mode": {
    "name": "ipython",
    "version": 3
   },
   "file_extension": ".py",
   "mimetype": "text/x-python",
   "name": "python",
   "nbconvert_exporter": "python",
   "pygments_lexer": "ipython3",
   "version": "3.7.4"
  }
 },
 "nbformat": 4,
 "nbformat_minor": 2
}
