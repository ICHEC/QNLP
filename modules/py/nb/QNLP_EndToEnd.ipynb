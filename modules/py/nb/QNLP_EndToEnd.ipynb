{
 "cells": [
  {
   "cell_type": "code",
   "execution_count": 1,
   "metadata": {},
   "outputs": [],
   "source": [
    "%matplotlib notebook\n",
    "from matplotlib import rc\n",
    "rc('text', usetex=True)\n",
    "import matplotlib.pyplot as plt"
   ]
  },
  {
   "cell_type": "code",
   "execution_count": 18,
   "metadata": {},
   "outputs": [],
   "source": [
    "from PyQNLPSimulator import PyQNLPSimulator as p\n",
    "import QNLP as q\n",
    "import numpy as np\n",
    "from itertools import product"
   ]
  },
  {
   "cell_type": "code",
   "execution_count": 19,
   "metadata": {},
   "outputs": [],
   "source": [
    "vsm = q.VectorSpaceModel.VectorSpaceModel(\n",
    "    corpus_path=\"/Users/mlxd/Desktop/qs_dev/intel-qnlp/corpus/84-0.txt\", mode='l', stop_words=False\n",
    ")"
   ]
  },
  {
   "cell_type": "code",
   "execution_count": 4,
   "metadata": {},
   "outputs": [],
   "source": [
    "basis     = vsm.define_basis({'verbs' : 16, 'nouns' : 16})"
   ]
  },
  {
   "cell_type": "code",
   "execution_count": 5,
   "metadata": {},
   "outputs": [],
   "source": [
    "verb_dist = vsm.sort_basis_tokens_by_dist(\"verbs\")\n",
    "noun_dist = vsm.sort_basis_tokens_by_dist(\"nouns\")"
   ]
  },
  {
   "cell_type": "code",
   "execution_count": 12,
   "metadata": {},
   "outputs": [],
   "source": [
    "# Define basis tokens encoding and decoding dicts\n",
    "encoding_dict = {\"ns\" : vsm.encoded_tokens[\"nouns\"],\n",
    "                 \"v\"  : vsm.encoded_tokens[\"verbs\"],\n",
    "                 \"no\" : vsm.encoded_tokens[\"nouns\"]\n",
    "                }\n",
    "\n",
    "decoding_dict = {\"ns\" : { v:k for k,v in encoding_dict[\"ns\"].items() },\n",
    "                 \"v\"  : { v:k for k,v in encoding_dict[\"v\"].items() },\n",
    "                 \"no\" : { v:k for k,v in encoding_dict[\"no\"].items() }\n",
    "                }"
   ]
  },
  {
   "cell_type": "code",
   "execution_count": 22,
   "metadata": {},
   "outputs": [
    {
     "name": "stdout",
     "output_type": "stream",
     "text": [
      "Requires 14 qubits to encode data\n"
     ]
    }
   ],
   "source": [
    "# Register must be large enough to support 2*|nouns| + |verbs|\n",
    "len_reg_memory = len(verb_dist) + 2*len(noun_dist)\n",
    "len_reg_ancilla = len_reg_memory + 2\n",
    "num_qubits = len_reg_memory + len_reg_ancilla\n",
    "print(\"Requires {} qubits to encode data\".format(num_qubits))"
   ]
  },
  {
   "cell_type": "code",
   "execution_count": 23,
   "metadata": {},
   "outputs": [],
   "source": [
    "\"\"\"Require analysis of corpus to determine number of patterns to encode. The current \n",
    "encoding method assumes unique patterns, though this can be extended to multiple \n",
    "occurrences of the same patterns later. Additionally, we can store 2^num_qubits \n",
    "unique patterns. As such, we will restrict the patterns to encode by limiting the\n",
    "space over which we analyse the corpus-to-basis mapping.\n",
    "\"\"\"\n",
    "num_bin_pattern = 8"
   ]
  },
  {
   "cell_type": "code",
   "execution_count": null,
   "metadata": {},
   "outputs": [],
   "source": []
  }
 ],
 "metadata": {
  "kernelspec": {
   "display_name": "Python 3",
   "language": "python",
   "name": "python3"
  },
  "language_info": {
   "codemirror_mode": {
    "name": "ipython",
    "version": 3
   },
   "file_extension": ".py",
   "mimetype": "text/x-python",
   "name": "python",
   "nbconvert_exporter": "python",
   "pygments_lexer": "ipython3",
   "version": "3.7.4"
  }
 },
 "nbformat": 4,
 "nbformat_minor": 2
}
