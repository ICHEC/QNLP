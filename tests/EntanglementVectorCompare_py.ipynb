{
 "cells": [
  {
   "cell_type": "markdown",
   "metadata": {},
   "source": [
    "# Encoding data into state coefficients"
   ]
  },
  {
   "cell_type": "code",
   "execution_count": 1,
   "metadata": {},
   "outputs": [],
   "source": [
    "import os\n",
    "os.environ['KMP_DUPLICATE_LIB_OK']='True' #avoids conda Intel openmp polluting the matplotlib libraries"
   ]
  },
  {
   "cell_type": "code",
   "execution_count": 2,
   "metadata": {},
   "outputs": [
    {
     "name": "stdout",
     "output_type": "stream",
     "text": [
      "[0.86632121 0.4994873  0.93989541 0.34146248]\n"
     ]
    }
   ],
   "source": [
    "# Use nonlinear least squares to determine the coefficients of the states to encode the numerical vector data.\n",
    "# Given the 2*num_qubits coefficients needed for each individual qubit, we solve f(x)=b, wherein the b is the \n",
    "# data to be encoded, x are the qubit coefficients, where a 1d array of length N holds N/2 qubits, with the \n",
    "#|0> and |1> states in alternating odd/even patterns, and f(x) is the kronecker producted coefficients of \n",
    "# these individual qubit pure states.\n",
    "import numpy as np\n",
    "import scipy.optimize\n",
    "\n",
    "num_qubits = 2\n",
    "\n",
    "#Function that computes the kronecker product of each individual qubit, and returns an array with each state coeff\n",
    "def func(x):\n",
    "    qubits = []\n",
    "    for ii in range(0,len(x),2):\n",
    "        qubits.append(np.array([x[ii],x[ii+1]]))\n",
    "    coeffs = [1]\n",
    "    for ii in range(0,len(x)//2):\n",
    "        coeffs = np.kron(coeffs, qubits[ii])\n",
    "    return np.array(coeffs)\n",
    "\n",
    "#f(x) - b = 0 to be solved\n",
    "def nl_eqs(x, *rhs):\n",
    "    res = func(x)-rhs/np.linalg.norm(rhs)\n",
    "    return res\n",
    "\n",
    "#Vector data to encode\n",
    "data_vals = [3.42, 1.24, 1.97, 0.72] #np.ones(2**num_qubits)\n",
    "\n",
    "#Initial values for the qubits. \n",
    "qubit_init_coeff = 1/(np.sqrt(2))*np.ones(2*num_qubits)\n",
    "\n",
    "#Constrained NL LSQ, with coefficients between -1 and 1. Ignoring possibility of complex coefficients for simplicity\n",
    "x = scipy.optimize.least_squares(nl_eqs, qubit_init_coeff, bounds=([-1,1]), args=data_vals).x\n",
    "for ii in range(0,len(x),2):\n",
    "    x[ii:ii+2] = x[ii:ii+2]/np.linalg.norm(x[ii:ii+2])\n",
    "print(x)"
   ]
  },
  {
   "cell_type": "markdown",
   "metadata": {},
   "source": [
    "Following the work of PRL 114 110504 (2015) we can achieve similar state coeffs by using the given data state. A choice of a different solver method can influence this, but multiplying the numbers and removing the normalisation factor allows us to recover the encoded data set. We can wrap the above method up into a function as follows."
   ]
  },
  {
   "cell_type": "code",
   "execution_count": 3,
   "metadata": {},
   "outputs": [],
   "source": [
    "def encoding_data(data_vec):\n",
    "    #Ensure we have enough qubits to encode string, and pad if data is non power of 2\n",
    "    dvec = np.array(data_vec)\n",
    "    lg2_len = np.log2(len(dvec))\n",
    "    required_qubits = np.ceil(lg2_len)\n",
    "    num_qubits = int(required_qubits)\n",
    "    if lg2_len != required_qubits:\n",
    "        dz = np.zeros(2**num_qubits)\n",
    "        dz[:dvec.shape[0]] = dvec\n",
    "        dvec = dz\n",
    "\n",
    "    #Assign initial values\n",
    "    qubit_init_coeff = 1/(np.sqrt(2))*np.ones(2*num_qubits)\n",
    "    #Perform NLLSQ\n",
    "    x =  scipy.optimize.least_squares(nl_eqs, qubit_init_coeff, bounds=([-1,1]), args=dvec).x\n",
    "    \n",
    "    #Ensure the resulting states are normalised according to each qubit's coefficients\n",
    "    for ii in range(0,len(x),2):\n",
    "        x[ii:ii+2] = x[ii:ii+2]/np.linalg.norm(x[ii:ii+2])\n",
    "    return x\n",
    "    "
   ]
  },
  {
   "cell_type": "code",
   "execution_count": 4,
   "metadata": {},
   "outputs": [],
   "source": [
    "y = encoding_data([0.5,0.5,0.9,0.1])"
   ]
  },
  {
   "cell_type": "code",
   "execution_count": 5,
   "metadata": {},
   "outputs": [
    {
     "name": "stderr",
     "output_type": "stream",
     "text": [
      "/Users/mlxd/workspace/quantum/duqt/install/duqt_conda/envs/duqt/lib/python3.6/site-packages/marshmallow/schema.py:364: ChangedInMarshmallow3Warning: strict=False is not recommended. In marshmallow 3.0, schemas will always be strict. See https://marshmallow.readthedocs.io/en/latest/upgrading.html#schemas-are-always-strict\n",
      "  ChangedInMarshmallow3Warning\n"
     ]
    }
   ],
   "source": [
    "from qiskit import QuantumCircuit, ClassicalRegister, QuantumRegister, execute, QuantumCircuit, execute, Aer, IBMQ, compile\n",
    "from qiskit.tools.visualization import circuit_drawer\n",
    "from qiskit.quantum_info import state_fidelity\n",
    "from qiskit import BasicAer\n",
    "\n",
    "u_backend = BasicAer.get_backend('unitary_simulator')\n",
    "num_samples = 20000"
   ]
  },
  {
   "cell_type": "markdown",
   "metadata": {},
   "source": [
    "Examine the encoding of data into a single qubit first. Extract the unitary evolution matrix corresponding with a R_y(2*theta) rotation to place the qubit into the appropriate state\n"
   ]
  },
  {
   "cell_type": "code",
   "execution_count": 6,
   "metadata": {},
   "outputs": [
    {
     "name": "stdout",
     "output_type": "stream",
     "text": [
      "U matrix:= \n",
      "[[ 0.94 +0.j -0.341+0.j]\n",
      " [ 0.341+0.j  0.94 +0.j]]\n",
      "Applying matrix to state |0> = [1,0]^T\n",
      "[0.94 +0.j 0.341+0.j]\n"
     ]
    },
    {
     "name": "stderr",
     "output_type": "stream",
     "text": [
      "/Users/mlxd/workspace/quantum/duqt/install/duqt_conda/envs/duqt/lib/python3.6/site-packages/marshmallow/schema.py:364: ChangedInMarshmallow3Warning: strict=False is not recommended. In marshmallow 3.0, schemas will always be strict. See https://marshmallow.readthedocs.io/en/latest/upgrading.html#schemas-are-always-strict\n",
      "  ChangedInMarshmallow3Warning\n"
     ]
    }
   ],
   "source": [
    "q = QuantumRegister(1)            \n",
    "rot_circ = QuantumCircuit(q)\n",
    "rot_circ.ry(2*np.arccos(x[ii]), q[0])\n",
    "\n",
    "job = execute(rot_circ, u_backend)\n",
    "u_mat = job.result().get_unitary(rot_circ, decimals=3)\n",
    "print(\"U matrix:= \")\n",
    "print (u_mat)\n",
    "print(\"Applying matrix to state |0> = [1,0]^T\")\n",
    "print (np.matmul(u_mat, [1, 0]))"
   ]
  },
  {
   "cell_type": "markdown",
   "metadata": {},
   "source": [
    "Now that we can encode data into a single qubit, we can encode the full vector data into the entire register as follows. We begin by defining the starting location of the GHZ state we wish to encode data into. For that, we need to examine the control qubit (0) and apply a controlled R_y operation if it is set, to ensure the test data is set into state |00> and the reference data in state |11>."
   ]
  },
  {
   "cell_type": "code",
   "execution_count": 7,
   "metadata": {},
   "outputs": [
    {
     "data": {
      "text/plain": [
       "<sqlite3.Cursor at 0x122051c70>"
      ]
     },
     "execution_count": 7,
     "metadata": {},
     "output_type": "execute_result"
    }
   ],
   "source": [
    "# In memory DB for storing values\n",
    "import sqlite3\n",
    "if 'conn' in globals():\n",
    "    conn.close()\n",
    "conn = sqlite3.connect(':memory:')\n",
    "# Get a cursor object\n",
    "cursor = conn.cursor()\n",
    "cursor.execute('''\n",
    "    CREATE TABLE q_states(id INTEGER PRIMARY KEY, state_key TEXT,\n",
    "                       dtheta REAL, counts INTEGER)\n",
    "''')"
   ]
  },
  {
   "cell_type": "markdown",
   "metadata": {},
   "source": [
    "In the next step, we compare two vectors, wherein one of the two is rotated through an angle from 0 to 2Pi. The resulting counts are recorded into the previously created database, with the correspodning angle and state label."
   ]
  },
  {
   "cell_type": "code",
   "execution_count": 8,
   "metadata": {},
   "outputs": [
    {
     "name": "stdout",
     "output_type": "stream",
     "text": [
      "{'00 0': 20000}\n",
      "{'01 0': 44, '00 0': 19920, '10 0': 36}\n",
      "{'01 0': 134, '00 0': 19712, '10 0': 152, '11 0': 2}\n",
      "{'01 0': 384, '00 0': 19235, '10 0': 367, '11 0': 14}\n",
      "{'01 0': 573, '00 0': 18765, '10 0': 618, '11 0': 44}\n",
      "{'01 0': 840, '00 0': 18210, '10 0': 851, '11 0': 99}\n",
      "{'01 0': 1209, '00 0': 17436, '10 0': 1192, '11 0': 163}\n",
      "{'01 0': 1492, '00 0': 16697, '10 0': 1494, '11 0': 317}\n",
      "{'01 0': 1799, '00 0': 15840, '10 0': 1755, '11 0': 606}\n",
      "{'01 0': 2016, '00 0': 15054, '10 0': 2031, '11 0': 899}\n",
      "{'01 0': 2283, '00 0': 14219, '10 0': 2200, '11 0': 1298}\n",
      "{'01 0': 2440, '00 0': 13387, '10 0': 2447, '11 0': 1726}\n",
      "{'01 0': 2481, '00 0': 12754, '10 0': 2541, '11 0': 2224}\n",
      "{'01 0': 2530, '00 0': 12076, '10 0': 2404, '11 0': 2990}\n",
      "{'01 0': 2365, '00 0': 11631, '10 0': 2368, '11 0': 3636}\n",
      "{'01 0': 2219, '00 0': 11203, '10 0': 2159, '11 0': 4419}\n",
      "{'01 0': 2007, '00 0': 10750, '10 0': 2029, '11 0': 5214}\n",
      "{'01 0': 1718, '00 0': 10481, '10 0': 1702, '11 0': 6099}\n",
      "{'01 0': 1417, '00 0': 10302, '10 0': 1457, '11 0': 6824}\n",
      "{'01 0': 1128, '00 0': 10174, '10 0': 1163, '11 0': 7535}\n",
      "{'01 0': 769, '00 0': 10033, '10 0': 832, '11 0': 8366}\n",
      "{'01 0': 517, '00 0': 9913, '10 0': 497, '11 0': 9073}\n",
      "{'01 0': 287, '00 0': 10025, '10 0': 331, '11 0': 9357}\n",
      "{'01 0': 116, '00 0': 9923, '10 0': 124, '11 0': 9837}\n",
      "{'01 0': 26, '00 0': 10001, '10 0': 29, '11 0': 9944}\n",
      "{'01 0': 1, '00 0': 9946, '11 0': 10053}\n",
      "{'01 0': 60, '00 0': 10030, '10 0': 54, '11 0': 9856}\n",
      "{'01 0': 182, '00 0': 10232, '10 0': 213, '11 0': 9373}\n",
      "{'01 0': 368, '00 0': 10067, '10 0': 379, '11 0': 9186}\n",
      "{'01 0': 687, '00 0': 10101, '10 0': 665, '11 0': 8547}\n",
      "{'01 0': 904, '00 0': 10121, '10 0': 925, '11 0': 8050}\n",
      "{'01 0': 1236, '00 0': 10217, '10 0': 1271, '11 0': 7276}\n",
      "{'01 0': 1593, '00 0': 10507, '10 0': 1575, '11 0': 6325}\n",
      "{'01 0': 1895, '00 0': 10634, '10 0': 1941, '11 0': 5530}\n",
      "{'01 0': 2146, '00 0': 10966, '10 0': 2157, '11 0': 4731}\n",
      "{'01 0': 2332, '00 0': 11269, '10 0': 2345, '11 0': 4054}\n",
      "{'01 0': 2372, '00 0': 11889, '10 0': 2413, '11 0': 3326}\n",
      "{'01 0': 2430, '00 0': 12495, '10 0': 2490, '11 0': 2585}\n",
      "{'01 0': 2437, '00 0': 13115, '10 0': 2482, '11 0': 1966}\n",
      "{'01 0': 2394, '00 0': 13892, '10 0': 2310, '11 0': 1404}\n",
      "{'01 0': 2234, '00 0': 14529, '10 0': 2174, '11 0': 1063}\n",
      "{'01 0': 1883, '00 0': 15613, '10 0': 1856, '11 0': 648}\n",
      "{'01 0': 1673, '00 0': 16155, '10 0': 1686, '11 0': 486}\n",
      "{'01 0': 1335, '00 0': 16970, '10 0': 1437, '11 0': 258}\n",
      "{'01 0': 1052, '00 0': 17777, '10 0': 1027, '11 0': 144}\n",
      "{'01 0': 757, '00 0': 18509, '10 0': 666, '11 0': 68}\n",
      "{'01 0': 442, '00 0': 19111, '10 0': 425, '11 0': 22}\n",
      "{'01 0': 239, '00 0': 19538, '10 0': 214, '11 0': 9}\n",
      "{'01 0': 92, '00 0': 19818, '10 0': 90}\n",
      "{'01 0': 8, '00 0': 19982, '10 0': 10}\n",
      "{'01 0': 8, '00 0': 19985, '10 0': 7}\n",
      "{'01 0': 103, '00 0': 19805, '10 0': 92}\n",
      "{'01 0': 250, '00 0': 19511, '10 0': 236, '11 0': 3}\n",
      "{'01 0': 481, '00 0': 19016, '10 0': 481, '11 0': 22}\n",
      "{'01 0': 757, '00 0': 18473, '10 0': 712, '11 0': 58}\n",
      "{'01 0': 1075, '00 0': 17791, '10 0': 1004, '11 0': 130}\n",
      "{'01 0': 1398, '00 0': 16969, '10 0': 1365, '11 0': 268}\n",
      "{'01 0': 1728, '00 0': 16213, '10 0': 1630, '11 0': 429}\n",
      "{'01 0': 1903, '00 0': 15528, '10 0': 1897, '11 0': 672}\n",
      "{'01 0': 2251, '00 0': 14590, '10 0': 2130, '11 0': 1029}\n",
      "{'01 0': 2385, '00 0': 13796, '10 0': 2388, '11 0': 1431}\n",
      "{'01 0': 2411, '00 0': 13172, '10 0': 2448, '11 0': 1969}\n",
      "{'01 0': 2496, '00 0': 12533, '10 0': 2472, '11 0': 2499}\n",
      "{'01 0': 2444, '00 0': 11858, '10 0': 2482, '11 0': 3216}\n",
      "{'01 0': 2367, '00 0': 11379, '10 0': 2340, '11 0': 3914}\n",
      "{'01 0': 2164, '00 0': 10855, '10 0': 2147, '11 0': 4834}\n",
      "{'01 0': 1815, '00 0': 10716, '10 0': 1794, '11 0': 5675}\n",
      "{'01 0': 1540, '00 0': 10378, '10 0': 1554, '11 0': 6528}\n",
      "{'01 0': 1278, '00 0': 10184, '10 0': 1279, '11 0': 7259}\n",
      "{'01 0': 966, '00 0': 9919, '10 0': 949, '11 0': 8166}\n",
      "{'01 0': 671, '00 0': 10061, '10 0': 654, '11 0': 8614}\n",
      "{'01 0': 392, '00 0': 10064, '10 0': 392, '11 0': 9152}\n",
      "{'01 0': 215, '00 0': 9983, '10 0': 206, '11 0': 9596}\n",
      "{'01 0': 69, '00 0': 9985, '10 0': 59, '11 0': 9887}\n",
      "{'01 0': 3, '00 0': 10049, '10 0': 3, '11 0': 9945}\n",
      "{'01 0': 35, '00 0': 9921, '10 0': 30, '11 0': 10014}\n",
      "{'01 0': 120, '00 0': 10069, '10 0': 126, '11 0': 9685}\n",
      "{'01 0': 294, '00 0': 9972, '10 0': 351, '11 0': 9383}\n",
      "{'01 0': 534, '00 0': 10083, '10 0': 490, '11 0': 8893}\n",
      "{'01 0': 824, '00 0': 10081, '10 0': 780, '11 0': 8315}\n",
      "{'01 0': 1207, '00 0': 10153, '10 0': 1082, '11 0': 7558}\n",
      "{'01 0': 1439, '00 0': 10182, '10 0': 1439, '11 0': 6940}\n",
      "{'01 0': 1707, '00 0': 10480, '10 0': 1741, '11 0': 6072}\n",
      "{'01 0': 2009, '00 0': 10710, '10 0': 2056, '11 0': 5225}\n",
      "{'01 0': 2209, '00 0': 11056, '10 0': 2319, '11 0': 4416}\n",
      "{'01 0': 2391, '00 0': 11594, '10 0': 2375, '11 0': 3640}\n",
      "{'01 0': 2535, '00 0': 11973, '10 0': 2569, '11 0': 2923}\n",
      "{'01 0': 2503, '00 0': 12756, '10 0': 2443, '11 0': 2298}\n",
      "{'01 0': 2381, '00 0': 13542, '10 0': 2412, '11 0': 1665}\n",
      "{'01 0': 2269, '00 0': 14189, '10 0': 2299, '11 0': 1243}\n",
      "{'01 0': 2058, '00 0': 15140, '10 0': 1992, '11 0': 810}\n",
      "{'01 0': 1839, '00 0': 15791, '10 0': 1812, '11 0': 558}\n",
      "{'01 0': 1514, '00 0': 16582, '10 0': 1544, '11 0': 360}\n",
      "{'01 0': 1214, '00 0': 17362, '10 0': 1227, '11 0': 197}\n",
      "{'01 0': 891, '00 0': 18190, '10 0': 833, '11 0': 86}\n",
      "{'01 0': 571, '00 0': 18819, '10 0': 573, '11 0': 37}\n",
      "{'01 0': 336, '00 0': 19304, '10 0': 349, '11 0': 11}\n",
      "{'01 0': 176, '00 0': 19697, '10 0': 126, '11 0': 1}\n",
      "{'01 0': 51, '00 0': 19896, '10 0': 53}\n",
      "{'00 0': 20000}\n"
     ]
    }
   ],
   "source": [
    "for th in np.linspace(0, 2*np.pi, 100, endpoint=True):\n",
    "    #Prepare the GHZ state on qubits 1,2, and use 0 as the control qubit for Rotations\n",
    "    q = QuantumRegister(2); #Entangled state for storing vectors\n",
    "    a = QuantumRegister(1); #Ancililary qubit for measurements\n",
    "    c_a = ClassicalRegister(1); #Classical measurement from anciliary qubit\n",
    "    c_q = ClassicalRegister(2); #C measurement on rest of qubit\n",
    "\n",
    "    ghz_circ = QuantumCircuit(a, q, c_a, c_q);\n",
    "\n",
    "    ghz_circ.h(a[0]);           \n",
    "    #ghz_circ.cx(a[0], q[0]);\n",
    "    #ghz_circ.cx(a[0], q[1]);\n",
    "\n",
    "\n",
    "    #Encode the data to test\n",
    "    x = [1,0,1,0]\n",
    "    y = [np.cos(th),np.sin(th),np.cos(th),np.sin(th)]\n",
    "    for ii in range(0,len(x),2):\n",
    "        ghz_circ.cu3(2*np.arccos(x[ii]), 0, 0, a[0], q[ii//2])\n",
    "        #ghz_circ.crz(2*np.arccos(x[ii]), a[0], q[ii//2])\n",
    "\n",
    "    #Next, encode the reference data by flipping the first bit to allow it into the |11> state\n",
    "    ghz_circ.x(a[0])\n",
    "    for ii in range(0,len(x),2):\n",
    "        ghz_circ.cu3(2*np.arccos(y[ii]), 0, 0, a[0], q[ii//2])\n",
    "        #ghz_circ.crz(2*np.arccos(x[ii]), a[0], q[ii//2])\n",
    "\n",
    "    #Extract result from anciliary qubit measurement\n",
    "    m_anc = 0\n",
    "    m_q = 1\n",
    "    if m_anc:\n",
    "        ghz_circ.measure(a, c_a)\n",
    "        backend = Aer.get_backend('qasm_simulator')\n",
    "        qobj = compile(ghz_circ, backend, shots=num_samples)\n",
    "        job = backend.run(qobj)\n",
    "        result = job.result()\n",
    "        counts = result.get_counts()\n",
    "        print(counts)\n",
    "\n",
    "    if m_q:\n",
    "        ghz_circ.measure(q, c_q)\n",
    "        backend = Aer.get_backend('qasm_simulator')\n",
    "        qobj = compile(ghz_circ, backend, shots=num_samples)\n",
    "        job = backend.run(qobj)\n",
    "        result = job.result()\n",
    "        counts = result.get_counts()\n",
    "        print(counts)\n",
    "\n",
    "    #Store the results into an in-memory sqlite DB\n",
    "    for k,v in counts.items():\n",
    "        cursor.execute('''INSERT INTO q_states(state_key, dtheta, counts) VALUES(?,?,?)''', \n",
    "                       (k, th, v))\n",
    "    conn.commit()"
   ]
  },
  {
   "cell_type": "code",
   "execution_count": 9,
   "metadata": {},
   "outputs": [],
   "source": [
    "#Extract the unique state labels and angles for plotting\n",
    "cursor.execute('''SELECT DISTINCT state_key FROM q_states ''')\n",
    "uniq_states = [s[0] for s in cursor.fetchall()]\n",
    "cursor.execute('''SELECT DISTINCT dtheta FROM q_states ''')\n",
    "angles = [s[0] for s in cursor.fetchall()]\n"
   ]
  },
  {
   "cell_type": "code",
   "execution_count": 10,
   "metadata": {
    "scrolled": false
   },
   "outputs": [
    {
     "data": {
      "image/png": "[encoded data removed]",
      "text/plain": [
       "<Figure size 1440x1080 with 2 Axes>"
      ]
     },
     "metadata": {
      "needs_background": "light"
     },
     "output_type": "display_data"
    }
   ],
   "source": [
    "#Extract the appropriate data from the DB and plot the results\n",
    "import numpy as np\n",
    "import matplotlib\n",
    "import matplotlib.pyplot as plt\n",
    "\n",
    "counts = np.zeros((len(uniq_states), len(angles)));\n",
    "for c_jj, v_jj in enumerate(uniq_states):\n",
    "    for c_ii, v_ii in enumerate(angles):\n",
    "        cursor.execute('''SELECT counts, state_key, dtheta FROM q_states WHERE dtheta=? AND state_key=?''', (v_ii, v_jj,) )\n",
    "        all_rows = cursor.fetchall()\n",
    "        for row in all_rows:\n",
    "            counts[c_jj][c_ii] = row[0];\n",
    "            \n",
    "plt.rcParams['figure.figsize'] = [20, 15]\n",
    "fig, ax = plt.subplots()\n",
    "im = ax.imshow(counts/num_samples, cmap='RdBu')\n",
    "ax.set_aspect(15)\n",
    "plt.xticks([i*16 for i in [0, np.pi/2, np.pi, 3*np.pi/2, 2*np.pi]], ['0', 'pi/2', 'pi', '3pi/2', '2pi'])\n",
    "plt.yticks(np.arange(len(uniq_states)), uniq_states)\n",
    "cbar = ax.figure.colorbar(im)"
   ]
  },
  {
   "cell_type": "markdown",
   "metadata": {},
   "source": [
    "As the vector is rotated through a variety of angles relative to the reference, we can see occupation of the |00> state (which is 100% at dtheta=0), lessens, and states |01> and |10> have non-negligible counts. As the vector is rotated to $\\pi/2$, the occupation of the |01> and |10> drops off, and the |11> state approaches 50%, along with |00>. This implies that the states are now maximally entangled, in state (|00> + |11>)/(sqrt(2)), with further rotations causing an oscillation through these propbabilities back to the original states.\n",
    "\n",
    "As such, when the vector as the same, P(|00>) = 100% P(all others) = 0%, and when they are orthogonal P(|00>) =50% and P(|11>)=50%.\n",
    "\n",
    "Measuring the anciliary bit as implied by PRL 114, 110504 (2015) however does not allow us to extract any information, as measurements of the full state is required. "
   ]
  },
  {
   "cell_type": "code",
   "execution_count": null,
   "metadata": {},
   "outputs": [],
   "source": []
  }
 ],
 "metadata": {
  "kernelspec": {
   "display_name": "Python 3",
   "language": "python",
   "name": "python3"
  },
  "language_info": {
   "codemirror_mode": {
    "name": "ipython",
    "version": 3
   },
   "file_extension": ".py",
   "mimetype": "text/x-python",
   "name": "python",
   "nbconvert_exporter": "python",
   "pygments_lexer": "ipython3",
   "version": "3.6.8"
  }
 },
 "nbformat": 4,
 "nbformat_minor": 2
}
