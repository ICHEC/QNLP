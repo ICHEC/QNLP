{
 "cells": [
  {
   "cell_type": "markdown",
   "metadata": {},
   "source": [
    "# Encoding data into state coefficients"
   ]
  },
  {
   "cell_type": "code",
   "execution_count": 5,
   "metadata": {},
   "outputs": [
    {
     "name": "stdout",
     "output_type": "stream",
     "text": [
      "[0.90984323 0.52458042 0.89493529 0.32512855]\n"
     ]
    }
   ],
   "source": [
    "# Use nonlinear least squares to determine the coefficients of the states to encode the numerical vector data.\n",
    "# Given the 2*num_qubits coefficients needed for each individual qubit, we solve f(x)=b, wherein the b is the \n",
    "# data to be encoded, x are the qubit coefficients, where a 1d array of length N holds N/2 qubits, with the \n",
    "#|0> and |1> states in alternating odd/even patterns, and f(x) is the kronecker producted coefficients of \n",
    "# these individual qubit pure states.\n",
    "import numpy as np\n",
    "import scipy.optimize\n",
    "\n",
    "num_qubits = 2\n",
    "\n",
    "#Function that computes the kronecker product of each individual qubit, and returns an array with each state coeff\n",
    "def func(x):\n",
    "    qubits = []\n",
    "    for ii in range(0,len(x),2):\n",
    "        qubits.append(np.array([x[ii],x[ii+1]]))\n",
    "    coeffs = [1]\n",
    "    for ii in range(0,len(x)//2):\n",
    "        coeffs = np.kron(coeffs, qubits[ii])\n",
    "    return np.array(coeffs)\n",
    "\n",
    "#f(x) - b = 0 to be solved\n",
    "def nl_eqs(x, *rhs):\n",
    "    return func(x)-rhs/np.linalg.norm(rhs)\n",
    "\n",
    "#Vector data to encode\n",
    "data_vals = [3.42, 1.24, 1.97, 0.72] #np.ones(2**num_qubits)\n",
    "\n",
    "#Initial values for the qubits. \n",
    "qubit_init_coeff = 1/(np.sqrt(2))*np.ones(2*num_qubits)\n",
    "\n",
    "#Constrained NL LSQ, with coefficients between -1 and 1. Ignoring possibility of complex coefficients for simplicity\n",
    "x = scipy.optimize.least_squares(nl_eqs, qubit_init_coeff, bounds=([-1,1]), args=data_vals).x\n",
    "print(x)"
   ]
  },
  {
   "cell_type": "markdown",
   "metadata": {},
   "source": [
    "Following the work of PRL 114 110504 (2015) we can achieve similar (though not exactly the same) states coeff by using the given data state. A choice of a different solver method can influence this, but multiplying the numbers and removing the normalisation factor allows us to recover the encoded data set. We can wrap the above method up into a function as follows."
   ]
  },
  {
   "cell_type": "code",
   "execution_count": 30,
   "metadata": {},
   "outputs": [],
   "source": [
    "def encoding_data(data_vec):\n",
    "    #Ensure we have enough qubits to encode string, and pad if data is non power of 2\n",
    "    dvec = np.array(data_vec)\n",
    "    lg2_len = np.log2(len(dvec))\n",
    "    required_qubits = np.ceil(lg2_len)\n",
    "    num_qubits = int(required_qubits)\n",
    "    if lg2_len != required_qubits:\n",
    "        dz = np.zeros(2**num_qubits)\n",
    "        dz[:dvec.shape[0]] = dvec\n",
    "        dvec = dz\n",
    "\n",
    "    qubit_init_coeff = 1/(np.sqrt(2))*np.ones(2*num_qubits)\n",
    "    return scipy.optimize.least_squares(nl_eqs, qubit_init_coeff, bounds=([-1,1]), args=dvec).x\n",
    "    "
   ]
  },
  {
   "cell_type": "code",
   "execution_count": 37,
   "metadata": {},
   "outputs": [
    {
     "data": {
      "text/plain": [
       "array([0.70710678, 0.70710678, 0.70710678, 0.70710678])"
      ]
     },
     "execution_count": 37,
     "metadata": {},
     "output_type": "execute_result"
    }
   ],
   "source": [
    "encoding_data([1,1,1,1])"
   ]
  },
  {
   "cell_type": "code",
   "execution_count": null,
   "metadata": {},
   "outputs": [],
   "source": []
  }
 ],
 "metadata": {
  "kernelspec": {
   "display_name": "Python 3",
   "language": "python",
   "name": "python3"
  },
  "language_info": {
   "codemirror_mode": {
    "name": "ipython",
    "version": 3
   },
   "file_extension": ".py",
   "mimetype": "text/x-python",
   "name": "python",
   "nbconvert_exporter": "python",
   "pygments_lexer": "ipython3",
   "version": "3.6.8"
  }
 },
 "nbformat": 4,
 "nbformat_minor": 2
}
